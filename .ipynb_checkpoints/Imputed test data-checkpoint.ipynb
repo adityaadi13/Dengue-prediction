{
 "cells": [
  {
   "cell_type": "code",
   "execution_count": 2,
   "metadata": {},
   "outputs": [],
   "source": [
    "#importing basic libraries\n",
    "import pandas as pd\n",
    "import numpy as np\n",
    "import matplotlib.pyplot as plt\n",
    "%matplotlib inline\n",
    "from matplotlib import rcParams\n",
    "import seaborn as sns"
   ]
  },
  {
   "cell_type": "code",
   "execution_count": 3,
   "metadata": {},
   "outputs": [],
   "source": [
    "test_file = pd.read_csv(r'C:\\Users\\Aditya\\Desktop\\CS data competition\\dengue_features_test.csv')"
   ]
  },
  {
   "cell_type": "code",
   "execution_count": 4,
   "metadata": {},
   "outputs": [
    {
     "name": "stdout",
     "output_type": "stream",
     "text": [
      "<class 'pandas.core.frame.DataFrame'>\n",
      "RangeIndex: 416 entries, 0 to 415\n",
      "Data columns (total 24 columns):\n",
      "city                                     416 non-null object\n",
      "year                                     416 non-null int64\n",
      "weekofyear                               416 non-null int64\n",
      "week_start_date                          416 non-null object\n",
      "ndvi_ne                                  373 non-null float64\n",
      "ndvi_nw                                  405 non-null float64\n",
      "ndvi_se                                  415 non-null float64\n",
      "ndvi_sw                                  415 non-null float64\n",
      "precipitation_amt_mm                     414 non-null float64\n",
      "reanalysis_air_temp_k                    414 non-null float64\n",
      "reanalysis_avg_temp_k                    414 non-null float64\n",
      "reanalysis_dew_point_temp_k              414 non-null float64\n",
      "reanalysis_max_air_temp_k                414 non-null float64\n",
      "reanalysis_min_air_temp_k                414 non-null float64\n",
      "reanalysis_precip_amt_kg_per_m2          414 non-null float64\n",
      "reanalysis_relative_humidity_percent     414 non-null float64\n",
      "reanalysis_sat_precip_amt_mm             414 non-null float64\n",
      "reanalysis_specific_humidity_g_per_kg    414 non-null float64\n",
      "reanalysis_tdtr_k                        414 non-null float64\n",
      "station_avg_temp_c                       404 non-null float64\n",
      "station_diur_temp_rng_c                  404 non-null float64\n",
      "station_max_temp_c                       413 non-null float64\n",
      "station_min_temp_c                       407 non-null float64\n",
      "station_precip_mm                        411 non-null float64\n",
      "dtypes: float64(20), int64(2), object(2)\n",
      "memory usage: 78.1+ KB\n"
     ]
    }
   ],
   "source": [
    "test_file.info()"
   ]
  },
  {
   "cell_type": "code",
   "execution_count": 5,
   "metadata": {},
   "outputs": [],
   "source": [
    "#removing row with all empty in reanalysis\n",
    "test_file2 = test_file[~test_file['reanalysis_air_temp_k'].isnull()]"
   ]
  },
  {
   "cell_type": "code",
   "execution_count": 8,
   "metadata": {},
   "outputs": [
    {
     "data": {
      "text/plain": [
       "(414, 24)"
      ]
     },
     "execution_count": 8,
     "metadata": {},
     "output_type": "execute_result"
    }
   ],
   "source": [
    "test_file2.shape"
   ]
  },
  {
   "cell_type": "code",
   "execution_count": 7,
   "metadata": {},
   "outputs": [
    {
     "data": {
      "text/plain": [
       "city                                      0\n",
       "year                                      0\n",
       "weekofyear                                0\n",
       "week_start_date                           0\n",
       "ndvi_ne                                  42\n",
       "ndvi_nw                                  10\n",
       "ndvi_se                                   0\n",
       "ndvi_sw                                   0\n",
       "precipitation_amt_mm                      0\n",
       "reanalysis_air_temp_k                     0\n",
       "reanalysis_avg_temp_k                     0\n",
       "reanalysis_dew_point_temp_k               0\n",
       "reanalysis_max_air_temp_k                 0\n",
       "reanalysis_min_air_temp_k                 0\n",
       "reanalysis_precip_amt_kg_per_m2           0\n",
       "reanalysis_relative_humidity_percent      0\n",
       "reanalysis_sat_precip_amt_mm              0\n",
       "reanalysis_specific_humidity_g_per_kg     0\n",
       "reanalysis_tdtr_k                         0\n",
       "station_avg_temp_c                       10\n",
       "station_diur_temp_rng_c                  10\n",
       "station_max_temp_c                        1\n",
       "station_min_temp_c                        7\n",
       "station_precip_mm                         3\n",
       "dtype: int64"
      ]
     },
     "execution_count": 7,
     "metadata": {},
     "output_type": "execute_result"
    }
   ],
   "source": [
    "test_file2.isna().sum()"
   ]
  },
  {
   "cell_type": "code",
   "execution_count": 9,
   "metadata": {},
   "outputs": [],
   "source": [
    "null_list = test_file2.columns[test_file2.isnull().any()]"
   ]
  },
  {
   "cell_type": "code",
   "execution_count": 10,
   "metadata": {},
   "outputs": [
    {
     "data": {
      "text/plain": [
       "Index(['ndvi_ne', 'ndvi_nw', 'station_avg_temp_c', 'station_diur_temp_rng_c',\n",
       "       'station_max_temp_c', 'station_min_temp_c', 'station_precip_mm'],\n",
       "      dtype='object')"
      ]
     },
     "execution_count": 10,
     "metadata": {},
     "output_type": "execute_result"
    }
   ],
   "source": [
    "null_list"
   ]
  },
  {
   "cell_type": "code",
   "execution_count": 12,
   "metadata": {},
   "outputs": [],
   "source": [
    "#building the aggregate table for cities\n",
    "grp = test_file2.groupby(['city','weekofyear'], as_index=False).agg(\n",
    "    {'ndvi_ne':'mean',\n",
    "     'ndvi_nw':'mean',\n",
    "    'station_avg_temp_c':'mean',\n",
    "'station_diur_temp_rng_c':'mean',\n",
    "'station_max_temp_c':'mean',\n",
    "'station_min_temp_c':'mean',\n",
    "'station_precip_mm':'mean',\n",
    "})\n",
    "\n",
    "grp = grp.dropna()"
   ]
  },
  {
   "cell_type": "code",
   "execution_count": 13,
   "metadata": {},
   "outputs": [],
   "source": [
    "test_file7 = test_file2.merge(grp, how='left',left_on=['city','weekofyear'],right_on=['city','weekofyear'])"
   ]
  },
  {
   "cell_type": "code",
   "execution_count": 16,
   "metadata": {},
   "outputs": [
    {
     "data": {
      "text/plain": [
       "Index(['city', 'year', 'weekofyear', 'week_start_date', 'ndvi_ne_x',\n",
       "       'ndvi_nw_x', 'ndvi_se', 'ndvi_sw', 'precipitation_amt_mm',\n",
       "       'reanalysis_air_temp_k', 'reanalysis_avg_temp_k',\n",
       "       'reanalysis_dew_point_temp_k', 'reanalysis_max_air_temp_k',\n",
       "       'reanalysis_min_air_temp_k', 'reanalysis_precip_amt_kg_per_m2',\n",
       "       'reanalysis_relative_humidity_percent', 'reanalysis_sat_precip_amt_mm',\n",
       "       'reanalysis_specific_humidity_g_per_kg', 'reanalysis_tdtr_k',\n",
       "       'station_avg_temp_c_x', 'station_diur_temp_rng_c_x',\n",
       "       'station_max_temp_c_x', 'station_min_temp_c_x', 'station_precip_mm_x',\n",
       "       'ndvi_ne_y', 'ndvi_nw_y', 'station_avg_temp_c_y',\n",
       "       'station_diur_temp_rng_c_y', 'station_max_temp_c_y',\n",
       "       'station_min_temp_c_y', 'station_precip_mm_y'],\n",
       "      dtype='object')"
      ]
     },
     "execution_count": 16,
     "metadata": {},
     "output_type": "execute_result"
    }
   ],
   "source": [
    "test_file7.columns"
   ]
  },
  {
   "cell_type": "code",
   "execution_count": 23,
   "metadata": {},
   "outputs": [],
   "source": [
    "for x in null_list:\n",
    "    l = test_file7[test_file7[str(x) + '_x'].isnull()].index\n",
    "    for row in l:\n",
    "        test_file7[str(x) + '_x'].iloc[row] =  test_file7[str(x) + '_y'].iloc[row]\n",
    "           \n"
   ]
  },
  {
   "cell_type": "code",
   "execution_count": 25,
   "metadata": {},
   "outputs": [],
   "source": [
    "#test_file7.info()\n",
    "test_file7.to_csv(r'C:\\Users\\Aditya\\Desktop\\CS data competition\\Imputed_test.csv', index = False)"
   ]
  },
  {
   "cell_type": "code",
   "execution_count": 22,
   "metadata": {},
   "outputs": [],
   "source": []
  }
 ],
 "metadata": {
  "kernelspec": {
   "display_name": "Python 3",
   "language": "python",
   "name": "python3"
  },
  "language_info": {
   "codemirror_mode": {
    "name": "ipython",
    "version": 3
   },
   "file_extension": ".py",
   "mimetype": "text/x-python",
   "name": "python",
   "nbconvert_exporter": "python",
   "pygments_lexer": "ipython3",
   "version": "3.7.3"
  }
 },
 "nbformat": 4,
 "nbformat_minor": 2
}
